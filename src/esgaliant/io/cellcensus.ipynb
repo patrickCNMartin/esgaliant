{
 "cells": [
  {
   "cell_type": "code",
   "execution_count": 1,
   "id": "735d5d63",
   "metadata": {},
   "outputs": [],
   "source": [
    "import cellxgene_census\n",
    "import numpy as np\n",
    "import tiledbsoma as soma"
   ]
  },
  {
   "cell_type": "code",
   "execution_count": null,
   "id": "1b4314f2",
   "metadata": {},
   "outputs": [
    {
     "name": "stderr",
     "output_type": "stream",
     "text": [
      "The \"stable\" release is currently 2025-01-30. Specify 'census_version=\"2025-01-30\"' in future calls to open_soma() to ensure data consistency.\n"
     ]
    },
    {
     "name": "stdout",
     "output_type": "stream",
     "text": [
      "Processing chunk 1...\n",
      "  Chunk 1 complete: 134217728 values processed\n",
      "Processing chunk 2...\n",
      "  Chunk 2 complete: 134217728 values processed\n",
      "Processing chunk 3...\n",
      "  Chunk 3 complete: 134217728 values processed\n",
      "Processing chunk 4...\n",
      "  Chunk 4 complete: 134217728 values processed\n",
      "Processing chunk 5...\n",
      "  Chunk 5 complete: 134217728 values processed\n"
     ]
    }
   ],
   "source": [
    "\n",
    "\n",
    "# Open Census and get mouse data\n",
    "with cellxgene_census.open_soma() as census:\n",
    "    mouse = census[\"census_data\"][\"mus_musculus\"]\n",
    "    \n",
    "    # Define your query filters here\n",
    "    with mouse.axis_query(\n",
    "        measurement_name=\"RNA\",\n",
    "        obs_query=soma.AxisQuery(value_filter=\"is_primary_data==True\"),\n",
    "        # Add any other filters you need\n",
    "    ) as query:\n",
    "        # Get variable information\n",
    "        var_df = query.var().concat().to_pandas()\n",
    "        n_vars = len(var_df)\n",
    "        n_obs = query.n_obs\n",
    "        \n",
    "        # Initialize accumulators for per-gene means\n",
    "        gene_sum = np.zeros((n_vars,), dtype=np.float64)\n",
    "        gene_count = np.zeros((n_vars,), dtype=np.int64)\n",
    "        \n",
    "        # Get indexer to map soma_joinid to positional indices\n",
    "        indexer = query.indexer\n",
    "        \n",
    "        # Stream through X data in batches\n",
    "        for chunk_idx, arrow_tbl in enumerate(query.X(\"raw\").tables()):\n",
    "            print(f\"Processing chunk {chunk_idx + 1}...\")\n",
    "            \n",
    "            # Get positional indices for genes (var dimension)\n",
    "            var_pos = indexer.by_var(arrow_tbl[\"soma_dim_1\"])\n",
    "            # Get the data values\n",
    "            data = arrow_tbl[\"soma_data\"].to_numpy()\n",
    "            \n",
    "            # Accumulate sums and counts per gene\n",
    "            np.add.at(gene_sum, var_pos, data)\n",
    "            np.add.at(gene_count, var_pos, 1)\n",
    "            \n",
    "            print(f\"  Chunk {chunk_idx + 1} complete: {len(data)} values processed\")\n",
    "        \n",
    "        # Compute final means\n",
    "        gene_mean = np.divide(\n",
    "            gene_sum, \n",
    "            n_obs,\n",
    "            where=(gene_count > 0),\n",
    "            out=np.zeros_like(gene_sum)\n",
    "        )\n",
    "        \n",
    "        print(f\"Processed {n_obs} cells across {n_vars} genes\")\n",
    "        print(f\"Gene means computed: {gene_mean[:10]}\")  # Show first 10"
   ]
  },
  {
   "cell_type": "code",
   "execution_count": 30,
   "id": "b68109db",
   "metadata": {},
   "outputs": [
    {
     "ename": "TypeError",
     "evalue": "'DataFrame' object is not subscriptable",
     "output_type": "error",
     "traceback": [
      "\u001b[31m---------------------------------------------------------------------------\u001b[39m",
      "\u001b[31mTypeError\u001b[39m                                 Traceback (most recent call last)",
      "\u001b[36mCell\u001b[39m\u001b[36m \u001b[39m\u001b[32mIn[30]\u001b[39m\u001b[32m, line 1\u001b[39m\n\u001b[32m----> \u001b[39m\u001b[32m1\u001b[39m test = \u001b[43mcensus\u001b[49m\u001b[43m[\u001b[49m\u001b[33;43m\"\u001b[39;49m\u001b[33;43mcensus_data\u001b[39;49m\u001b[33;43m\"\u001b[39;49m\u001b[43m]\u001b[49m\u001b[43m[\u001b[49m\u001b[33;43m\"\u001b[39;49m\u001b[33;43mmus_musculus\u001b[39;49m\u001b[33;43m\"\u001b[39;49m\u001b[43m]\u001b[49m\u001b[43m.\u001b[49m\u001b[43mobs\u001b[49m\u001b[43m[\u001b[49m\u001b[33;43m'\u001b[39;49m\u001b[33;43mraw_mean_nnz\u001b[39;49m\u001b[33;43m'\u001b[39;49m\u001b[43m]\u001b[49m\n\u001b[32m      2\u001b[39m test\n",
      "\u001b[31mTypeError\u001b[39m: 'DataFrame' object is not subscriptable"
     ]
    }
   ],
   "source": [
    "test = census[\"census_data\"][\"mus_musculus\"].obs['raw_mean_nnz']\n",
    "test"
   ]
  },
  {
   "cell_type": "code",
   "execution_count": 22,
   "id": "eb588182",
   "metadata": {},
   "outputs": [],
   "source": [
    "cell_meta_data = cellxgene_census.get_obs(\n",
    "    census, \"mus_musculus\", column_names=[\"cell_type\"]\n",
    ")\n",
    "cell_meta_data = cell_meta_data['cell_type'].value_counts()\n",
    "cell_meta_data.to_csv(\"../../../data/cell_type.csv\")\n"
   ]
  },
  {
   "cell_type": "code",
   "execution_count": null,
   "id": "824c7c6b",
   "metadata": {},
   "outputs": [
    {
     "name": "stdout",
     "output_type": "stream",
     "text": [
      "1.17.0\n"
     ]
    }
   ],
   "source": [
    "def rolling_mean(census,\n",
    "                 chunk_size:int = 10000):\n",
    "    \n",
    "    return 0"
   ]
  },
  {
   "cell_type": "code",
   "execution_count": null,
   "id": "11077fac",
   "metadata": {},
   "outputs": [],
   "source": []
  }
 ],
 "metadata": {
  "kernelspec": {
   "display_name": "esgaliant",
   "language": "python",
   "name": "python3"
  },
  "language_info": {
   "codemirror_mode": {
    "name": "ipython",
    "version": 3
   },
   "file_extension": ".py",
   "mimetype": "text/x-python",
   "name": "python",
   "nbconvert_exporter": "python",
   "pygments_lexer": "ipython3",
   "version": "3.13.7"
  }
 },
 "nbformat": 4,
 "nbformat_minor": 5
}
